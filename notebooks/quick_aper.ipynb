{
 "cells": [
  {
   "cell_type": "code",
   "execution_count": 1,
   "metadata": {},
   "outputs": [],
   "source": [
    "from astropy.io import fits\n",
    "from astropy.wcs import WCS\n",
    "\n",
    "filter = 'f444w'\n",
    "\n",
    "hdul = fits.open(f'/Volumes/Weaver_2TB/Projects/Current/UNCOVER/data/v2.2/output/uncover_v6.0_abell2744clu_{filter}_bcgs_sci_f444w-matched.fits.gz')\n",
    "img = hdul[0].data\n",
    "wcs = WCS(hdul[0].header)"
   ]
  },
  {
   "cell_type": "code",
   "execution_count": 2,
   "metadata": {},
   "outputs": [],
   "source": [
    "import numpy as np\n",
    "objs = np.array([\n",
    "[3.5935912,\t-30.405092],\n",
    "[3.5934841,\t-30.405041],\n",
    "[3.5933657,\t-30.404986],\n",
    "[3.5932755,  -30.404945],\n",
    "[3.5932723,  -30.404942],\n",
    "])\n",
    "\n",
    "from astropy.coordinates import SkyCoord\n",
    "import astropy.units as u\n",
    "coords = SkyCoord(objs.T[0]*u.deg, objs.T[1]*u.deg)\n",
    "\n",
    "from photutils.aperture import SkyCircularAperture\n",
    "aperture = SkyCircularAperture(coords, r=0.32/2.*u.arcsec)"
   ]
  },
  {
   "cell_type": "code",
   "execution_count": 3,
   "metadata": {},
   "outputs": [
    {
     "name": "stdout",
     "output_type": "stream",
     "text": [
      "     sky_center      aperture_sum faper_f444w maper_f444w\n",
      "      deg,deg                                            \n",
      "-------------------- ------------ ----------- -----------\n",
      "3.5935912,-30.405092    15.552837   15.552837   25.920476\n",
      "3.5934841,-30.405041    14.408686   14.408686   26.003439\n",
      "3.5933657,-30.404986    12.288598   12.288598   26.176244\n",
      "3.5932755,-30.404945    15.004646   15.004646   25.959436\n",
      "3.5932723,-30.404942    15.106867   15.106867   25.952064\n"
     ]
    }
   ],
   "source": [
    "\n",
    "from photutils.aperture import aperture_photometry\n",
    "phot_table = aperture_photometry(img, aperture, wcs=wcs)\n",
    "phot_table['aperture_sum'].info.format = '%.8g'  # for consistent table output\n",
    "phot_table[f'faper_{filter}'] = phot_table['aperture_sum']\n",
    "phot_table[f'maper_{filter}'] = 28.9 - 2.5*np.log10(phot_table[f'faper_{filter}'])\n",
    "print(phot_table[phot_table.colnames[3:]])"
   ]
  },
  {
   "cell_type": "code",
   "execution_count": null,
   "metadata": {},
   "outputs": [],
   "source": []
  }
 ],
 "metadata": {
  "kernelspec": {
   "display_name": "Python 3",
   "language": "python",
   "name": "python3"
  },
  "language_info": {
   "codemirror_mode": {
    "name": "ipython",
    "version": 3
   },
   "file_extension": ".py",
   "mimetype": "text/x-python",
   "name": "python",
   "nbconvert_exporter": "python",
   "pygments_lexer": "ipython3",
   "version": "3.11.3"
  },
  "orig_nbformat": 4
 },
 "nbformat": 4,
 "nbformat_minor": 2
}
